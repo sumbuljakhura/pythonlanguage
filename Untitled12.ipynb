{
 "cells": [
  {
   "cell_type": "markdown",
   "id": "6f9606f8",
   "metadata": {},
   "source": [
    "# Assignment # 4\n"
   ]
  },
  {
   "cell_type": "code",
   "execution_count": 2,
   "id": "1b2238b7",
   "metadata": {},
   "outputs": [
    {
     "name": "stdout",
     "output_type": "stream",
     "text": [
      "Select operation.\n",
      "1.Add\n",
      "2.Subtract\n",
      "3.Multiplb\n",
      "4.Divide\n",
      "Enter choice(1/2/3/4): 4\n",
      "Enter first number: 45\n",
      "Enter second number: 3\n",
      "45 / 3 = 15.0\n",
      "Let's do more calculation? (yes/no): n\n",
      "Enter choice(1/2/3/4): 4\n",
      "Enter first number: 22\n",
      "Enter second number: 3\n",
      "22 / 3 = 7.333333333333333\n",
      "Let's do more calculation? (yes/no): no\n"
     ]
    }
   ],
   "source": [
    "#1.Make a calculator using Pbthon with addition , subtraction , multiplication ,division and power.\n",
    "\n",
    "\n",
    "def Add(a, b):\n",
    "    return a + b\n",
    "\n",
    "def subtract(a, b):\n",
    "    return a - b\n",
    "\n",
    "\n",
    "def multiplb(a, b):\n",
    "    return a * b\n",
    "\n",
    "\n",
    "def divide(a, b):\n",
    "    return a / b\n",
    "\n",
    "\n",
    "print (\"Select operation.\")\n",
    "print (\"1.Add\")\n",
    "print (\"2.Subtract\")\n",
    "print (\"3.Multiplb\")\n",
    "print (\"4.Divide\")\n",
    "\n",
    "while True:\n",
    "   \n",
    "    choice = input(\"Enter choice(1/2/3/4): \")\n",
    "\n",
    "    if choice in ('1', '2', '3', '4'):\n",
    "        number1 = int(input(\"Enter first number: \"))\n",
    "        number2 = int(input(\"Enter second number: \"))\n",
    "\n",
    "        if choice == '1':\n",
    "            print(number1, \"+\", number2, \"=\", add(number1, number2))\n",
    "\n",
    "        elif choice == '2':\n",
    "            print(number1, \"-\", number2, \"=\", subtract(number1, number2))\n",
    "\n",
    "        elif choice == '3':\n",
    "            print(number1, \"*\", number2, \"=\", multiplb(number1, number2))\n",
    "\n",
    "        elif choice == '4':\n",
    "            print(number1, \"/\", number2, \"=\", divide(number1, number2))\n",
    "        \n",
    "        # check if user wants another calculation\n",
    "        # break the while loop if answer is no\n",
    "        neat_calculation = input(\"Let's do more calculation? (yes/no): \")\n",
    "        if neat_calculation == \"no\":\n",
    "          break\n",
    "    \n",
    "    else:\n",
    "        Print (\"Invalid Input\")\n",
    "\n"
   ]
  },
  {
   "cell_type": "code",
   "execution_count": 3,
   "id": "89bf7d28",
   "metadata": {},
   "outputs": [
    {
     "name": "stdout",
     "output_type": "stream",
     "text": [
      "4\n",
      "6\n",
      "7\n"
     ]
    }
   ],
   "source": [
    "#2. Write a program to check if there is any numeric value in list using for loop.\n",
    "list = [\"sumbul\", \"saleem\", 4, \"5\",6,7,\"jakhura\"] \n",
    "for x in list: \n",
    "    if type(x) == int: \n",
    "        print(x)"
   ]
  },
  {
   "cell_type": "code",
   "execution_count": 4,
   "id": "d438fd75",
   "metadata": {},
   "outputs": [
    {
     "name": "stdout",
     "output_type": "stream",
     "text": [
      "{1: 'hello', 2: 'how are you'}\n",
      "{1: 'hello', 2: 'how are you', 3: 'world'}\n"
     ]
    }
   ],
   "source": [
    "#3. Write a Python script to add a key to a dictionary.\n",
    "dictionary={1:\"hello\", 2:\"how are you\"}\n",
    "print(dictionary)\n",
    "dictionary.update({3:\"world\"})\n",
    "print(dictionary)"
   ]
  },
  {
   "cell_type": "code",
   "execution_count": 5,
   "id": "bb09b51c",
   "metadata": {},
   "outputs": [
    {
     "name": "stdout",
     "output_type": "stream",
     "text": [
      "700\n"
     ]
    }
   ],
   "source": [
    "#4. Write a Python program to sum all the numeric items in a dictionary.\n",
    "my_dict = {'a':200,'b':400,'c':100}\n",
    "print(sum(my_dict.values()))"
   ]
  },
  {
   "cell_type": "code",
   "execution_count": 6,
   "id": "57cd11bb",
   "metadata": {},
   "outputs": [
    {
     "name": "stdout",
     "output_type": "stream",
     "text": [
      "2 4 7 8 "
     ]
    }
   ],
   "source": [
    "#5. Write a program to identify duplicate values from list.\n",
    "list1=[1,2,3,4,5,6,7,2,4,7,8,9,8]\n",
    "list2=[]\n",
    "for i in list1:\n",
    "    if i not in list2:\n",
    "        list2.append(i)\n",
    "    else:\n",
    "        print(i,end=' ')"
   ]
  },
  {
   "cell_type": "code",
   "execution_count": 21,
   "id": "541884a1",
   "metadata": {},
   "outputs": [
    {
     "name": "stdout",
     "output_type": "stream",
     "text": [
      "Key is present in the dictionary\n",
      "Key is not present in the dictionary\n"
     ]
    }
   ],
   "source": [
    "#6. Write a Python script to check if a given key already exists in a dictionary\n",
    "\n",
    "\n",
    "d = {1: 10, 2: 20, 3: 30, 4: 40, 5: 50, 6: 60}\n",
    "\n",
    "def is_key_present(x):\n",
    "  if x in d:\n",
    "      print('Key is present in the dictionary')\n",
    "  else:\n",
    "      print('Key is not present in the dictionary')\n",
    "is_key_present(6)\n",
    "is_key_present(9)\n"
   ]
  },
  {
   "cell_type": "code",
   "execution_count": null,
   "id": "4be3b4a6",
   "metadata": {},
   "outputs": [],
   "source": []
  }
 ],
 "metadata": {
  "kernelspec": {
   "display_name": "Python 3",
   "language": "python",
   "name": "python3"
  },
  "language_info": {
   "codemirror_mode": {
    "name": "ipython",
    "version": 3
   },
   "file_extension": ".py",
   "mimetype": "text/x-python",
   "name": "python",
   "nbconvert_exporter": "python",
   "pygments_lexer": "ipython3",
   "version": "3.8.8"
  }
 },
 "nbformat": 4,
 "nbformat_minor": 5
}
